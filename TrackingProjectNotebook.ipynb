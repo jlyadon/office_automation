{
 "cells": [
  {
   "cell_type": "markdown",
   "metadata": {},
   "source": [
    "# Building a sample API call:"
   ]
  },
  {
   "cell_type": "code",
   "execution_count": 1,
   "metadata": {},
   "outputs": [],
   "source": [
    "import requests\n",
    "from xml.etree import ElementTree as ET"
   ]
  },
  {
   "cell_type": "code",
   "execution_count": 2,
   "metadata": {},
   "outputs": [],
   "source": [
    "base_url = 'https://secure.shippingapis.com/ShippingAPI.dll?API=TrackV2&XML='\n",
    "from config import userid, password"
   ]
  },
  {
   "cell_type": "code",
   "execution_count": 3,
   "metadata": {},
   "outputs": [],
   "source": [
    "# Sample API call:\n",
    "\n",
    "trackid = '9114902200852144849041'\n",
    "# response = requests.get(base_url + \\\n",
    "#                         f'<TrackRequest USERID={userid} PASSWORD={password}>\\\n",
    "#                             <TrackID ID={trackid}></TrackID>\\\n",
    "#                                 </TrackRequest>')\n",
    "\n",
    "response = requests.get(base_url + \\\n",
    "                        f'<TrackRequest USERID=\"{userid}\" PASSWORD=\"{password}\">\\\n",
    "                            <TrackID ID=\"{trackid}\"></TrackID>\\\n",
    "                                </TrackRequest>')\n",
    "\n",
    "# response = requests.get(base_url + \\\n",
    "#                         f'USERID={userid}&PASSWORD={password}\\\n",
    "#                             &ID={trackid}')\n",
    "root = ET.fromstring(response.content)"
   ]
  },
  {
   "cell_type": "code",
   "execution_count": 4,
   "metadata": {},
   "outputs": [
    {
     "data": {
      "text/plain": [
       "'b\\'<?xml version=\"1.0\" encoding=\"UTF-8\"?>\\\\n<TrackResponse><TrackInfo ID=\"9114902200852144849041\"><TrackSummary>Your item was delivered in or at the mailbox at 11:31 am on July 18, 2024 in WAXAHACHIE, TX 75165.</TrackSummary><TrackDetail>Arrived at USPS Regional Origin Facility, 07/17/2024, 3:10 pm, DALLAS TX DISTRIBUTION CENTER</TrackDetail><TrackDetail>Arrived at USPS Regional Origin Facility, 07/16/2024, 10:51 pm, COPPELL TX DISTRIBUTION CENTER</TrackDetail><TrackDetail>USPS picked up item, July 15, 2024, 5:38 pm, WACO, TX 76710</TrackDetail></TrackInfo></TrackResponse>\\''"
      ]
     },
     "execution_count": 4,
     "metadata": {},
     "output_type": "execute_result"
    }
   ],
   "source": [
    "str(response.content)"
   ]
  },
  {
   "cell_type": "code",
   "execution_count": 5,
   "metadata": {},
   "outputs": [
    {
     "data": {
      "text/plain": [
       "True"
      ]
     },
     "execution_count": 5,
     "metadata": {},
     "output_type": "execute_result"
    }
   ],
   "source": [
    "'Your item was delivered' in str(response.content)"
   ]
  },
  {
   "cell_type": "code",
   "execution_count": 6,
   "metadata": {},
   "outputs": [
    {
     "name": "stdout",
     "output_type": "stream",
     "text": [
      "TrackResponse\n",
      "TrackInfo\n",
      "TrackSummary Your item was delivered in or at the mailbox at 11:31 am on July 18, 2024 in WAXAHACHIE, TX 75165.\n",
      "TrackDetail Arrived at USPS Regional Origin Facility, 07/17/2024, 3:10 pm, DALLAS TX DISTRIBUTION CENTER\n",
      "TrackDetail Arrived at USPS Regional Origin Facility, 07/16/2024, 10:51 pm, COPPELL TX DISTRIBUTION CENTER\n",
      "TrackDetail USPS picked up item, July 15, 2024, 5:38 pm, WACO, TX 76710\n"
     ]
    }
   ],
   "source": [
    "print(root.tag)\n",
    "for child in root:\n",
    "    print(child.tag)\n",
    "    for grandchild in child:\n",
    "        print(grandchild.tag, grandchild.text)"
   ]
  },
  {
   "cell_type": "code",
   "execution_count": 7,
   "metadata": {},
   "outputs": [
    {
     "ename": "AttributeError",
     "evalue": "'xml.etree.ElementTree.Element' object has no attribute 'TrackSummary'",
     "output_type": "error",
     "traceback": [
      "\u001b[1;31m---------------------------------------------------------------------------\u001b[0m",
      "\u001b[1;31mAttributeError\u001b[0m                            Traceback (most recent call last)",
      "Cell \u001b[1;32mIn[7], line 1\u001b[0m\n\u001b[1;32m----> 1\u001b[0m root\u001b[38;5;241m.\u001b[39mTrackSummary\n",
      "\u001b[1;31mAttributeError\u001b[0m: 'xml.etree.ElementTree.Element' object has no attribute 'TrackSummary'"
     ]
    }
   ],
   "source": [
    "root.TrackSummary"
   ]
  },
  {
   "cell_type": "code",
   "execution_count": null,
   "metadata": {},
   "outputs": [],
   "source": []
  },
  {
   "cell_type": "markdown",
   "metadata": {},
   "source": [
    "# To build the string:"
   ]
  },
  {
   "cell_type": "code",
   "execution_count": null,
   "metadata": {},
   "outputs": [],
   "source": [
    "# import pandas as pd\n",
    "# tracking_df = pd.read_csv('TrackingList.csv')"
   ]
  },
  {
   "cell_type": "code",
   "execution_count": null,
   "metadata": {},
   "outputs": [],
   "source": [
    "# tracking_df.head()"
   ]
  },
  {
   "cell_type": "code",
   "execution_count": null,
   "metadata": {},
   "outputs": [],
   "source": [
    "# url_b = f'<TrackRequest USERID=\"{userid3}\" PASSWORD=\"{password3}\">'\n",
    "# i = 0\n",
    "# for tnum in tracking_df['Tracking Nos.']:\n",
    "#     while i <= 9:\n",
    "#         url_b = url_b + (f'<TrackID ID=\"{tnum}\"></TrackID>')\n",
    "#         i += 1\n",
    "\n",
    "# url_b = url_b +'</TrackingRequest>'\n",
    "# url_b"
   ]
  },
  {
   "cell_type": "markdown",
   "metadata": {},
   "source": [
    "# Another approach: an API call for each number:\n",
    "\n",
    "This approach uses less code and is probably better, but will make many more api calls. The documentation does not have a limit on how many calls can be made."
   ]
  },
  {
   "cell_type": "code",
   "execution_count": 10,
   "metadata": {},
   "outputs": [
    {
     "name": "stdout",
     "output_type": "stream",
     "text": [
      "              Tracking Nos. Client Nos.              Comments\n",
      "113  9114902200852144849386    50836.02  1040 and Source Docs\n",
      "114  9114902200852144849393    54159.02           Source Docs\n",
      "115  9114902200852144849416    70250.02           Source Docs\n",
      "116  9114902200852144849409    63909.02    Source Docs and EL\n",
      "117  9114902200852144849423    14246.02  Form 1041; Attempt 2\n",
      "Tracking Nos.    object\n",
      "Client Nos.      object\n",
      "Comments         object\n",
      "dtype: object\n"
     ]
    }
   ],
   "source": [
    "# REITERATE:\n",
    "# base_url = 'https://secure.shippingapis.com/ShippingAPI.dll?API=TrackV2&XML='\n",
    "# from config import userid3, password3\n",
    "\n",
    "import pandas as pd\n",
    "tracking_df = pd.read_csv('TrackingList.csv',dtype={'Client Nos.':str})\n",
    "\n",
    "print(tracking_df.tail())\n",
    "print(tracking_df.dtypes)"
   ]
  },
  {
   "cell_type": "code",
   "execution_count": null,
   "metadata": {},
   "outputs": [],
   "source": [
    "delivered_list = []\n",
    "awaiting_pickup_list = []\n",
    "\n",
    "for num in tracking_df['Tracking Nos.']:\n",
    "    response = requests.get(base_url + \\\n",
    "                        f'<TrackRequest USERID=\"{userid}\" PASSWORD=\"{password}\">\\\n",
    "                            <TrackID ID=\"{num}\"></TrackID>\\\n",
    "                                </TrackRequest>')\n",
    "    if 'Your package was delivered' in response.content:\n",
    "        delivered_list.append(num)\n",
    "    elif 'Awaiting pickup' in response.content:\n",
    "        awaiting_pickup_list.append(num)\n",
    "\n",
    "\n",
    "    #   DoSomethingWith(response)\n",
    "        # Pick out the 'TrackSummary' element from the tree.\n",
    "        # If it includes 'Your item was delivered,' add it to a list\n",
    "    # Check trackingpseudocode.md."
   ]
  },
  {
   "cell_type": "code",
   "execution_count": null,
   "metadata": {},
   "outputs": [],
   "source": [
    "# Create a delivered_list of imaginary packages to test the code\n",
    "# below:\n",
    "delivered_list = ['7019','7020','7021']"
   ]
  },
  {
   "cell_type": "markdown",
   "metadata": {},
   "source": [
    "# Write a file with a list of delivered packages:"
   ]
  },
  {
   "cell_type": "code",
   "execution_count": null,
   "metadata": {},
   "outputs": [],
   "source": [
    "print('The following ' + str(len(delivered_list)) + ' packages have been delivered:')\n",
    "if delivered_list == []:\n",
    "    print('None.')\n",
    "else:\n",
    "    [print(f'{id}') for id in delivered_list]"
   ]
  },
  {
   "cell_type": "code",
   "execution_count": null,
   "metadata": {},
   "outputs": [],
   "source": [
    "import datetime\n",
    "\n",
    "# Write a file to save the list of delivered packages:\n",
    "savelist = 'x'\n",
    "while savelist.lower() != 'y' and savelist.lower() != 'n':\n",
    "    savelist = input('Would you like to save a list of them? (y/n) ')\n",
    "    \n",
    "    if savelist.lower() == 'y':\n",
    "        # Write a file with date and time in the file name:\n",
    "        rn = datetime.datetime.now()\n",
    "        filename = 'Output\\deliveredlist' + rn.strftime('%Y%m%d_%H%M') + '.txt'\n",
    "        deliveredfile = open(filename, 'a')\n",
    "        deliveredfile.write(\n",
    "            'Packages delivered as of ' + rn.strftime('%d %B %Y, %H:%M') + ':\\n'\n",
    "        )\n",
    "        for id in delivered_list:\n",
    "            spot = tracking_df[tracking_df['Tracking Nos.'] == id].index[0]\n",
    "            # NOTE: the above line is written with the assumption that exactly one row is returned. If the condition returns more than one index for a tracking number, the first will go into the varible.\n",
    "            deliveredfile.write(f'\\n{tracking_df.iloc[spot,0]}, {tracking_df.iloc[spot,1]}, {tracking_df.iloc[spot,2]}')\n",
    "        deliveredfile.close()\n",
    "        \n",
    "        # With the file written, ask about removing the packages from the list:\n",
    "        removedelivered = 'x'\n",
    "        while removedelivered.lower() != 'y' and removedelivered.lower() != 'n':\n",
    "            removedelivered = input('Would you like to remove them from the tracking list? (y/n) ')\n",
    "            if removedelivered == 'y':\n",
    "                for id in delivered_list:\n",
    "                    tracking_df.drop(tracking_df[tracking_df['Tracking Nos.'] == id].index[0], inplace=True)\n",
    "                    # NOTE: the above line is written with the assumption that exactly one row is returned. If the condition returns more than one index for a tracking number, only the first will be deleted.\n",
    "                tracking_df.to_csv('Output\\TrackingList' + rn.strftime('%Y%B%d_%H%M') + '.csv', index=False)\n",
    "                tracking_df.to_csv('TrackingList.csv', index=False)\n",
    "            elif removedelivered != 'y' and removedelivered != 'n':\n",
    "                print('Please answer with the letter y for Yes or the letter n for No.')\n",
    "\n",
    "    elif savelist != 'y' and savelist != 'n':\n",
    "        print('Please answer with the letter y for Yes or the letter n for No.')"
   ]
  },
  {
   "cell_type": "code",
   "execution_count": null,
   "metadata": {},
   "outputs": [],
   "source": [
    "# Playground cell\n",
    "tracking_df[tracking_df['Comments'] == 'Imaginary'].index"
   ]
  },
  {
   "cell_type": "code",
   "execution_count": null,
   "metadata": {},
   "outputs": [],
   "source": [
    "tracking_df.tail()\n",
    "# tracking_df.drop(tracking_df[tracking_df['Tracking Nos.'] == id].index[0])"
   ]
  },
  {
   "cell_type": "code",
   "execution_count": null,
   "metadata": {},
   "outputs": [],
   "source": [
    "tracking_df.to_csv('TrackingList.csv',index=False)"
   ]
  },
  {
   "cell_type": "markdown",
   "metadata": {},
   "source": [
    "# Setting up the output file to include confirmation information:"
   ]
  },
  {
   "cell_type": "code",
   "execution_count": null,
   "metadata": {},
   "outputs": [],
   "source": [
    "# From above:\n",
    "\n",
    "# root = ET.fromstring(response.content)\n",
    "\n",
    "# print(root.tag)\n",
    "# for child in root:\n",
    "#     print(child.tag)\n",
    "#     for grandchild in child:\n",
    "#         print(grandchild.tag, grandchild.text)\n",
    "\n",
    "# Output:\n",
    "\n",
    "# TrackResponse\n",
    "# TrackInfo\n",
    "# TrackSummary Your package is moving within the USPS network and is on track to be delivered to its final destination. It is currently in transit to the next facility.\n",
    "# TrackDetail In Transit to Next Facility, 04/22/2024\n",
    "# TrackDetail In Transit to Next Facility, 04/21/2024\n",
    "# TrackDetail In Transit to Next Facility, 04/20/2024\n",
    "# TrackDetail Arrived at USPS Regional Facility, April 18, 2024, 8:36 am, CHARLOTTE NC DISTRIBUTION CENTER\n",
    "# TrackDetail In Transit to Next Facility, 04/17/2024\n",
    "# TrackDetail Arrived at USPS Regional Facility, April 16, 2024, 12:34 am, COPPELL TX DISTRIBUTION CENTER\n"
   ]
  },
  {
   "cell_type": "code",
   "execution_count": 4,
   "metadata": {},
   "outputs": [],
   "source": [
    "# Reminder: root = ET.fromstring(response.content)\n",
    "\n",
    "from bs4 import BeautifulSoup"
   ]
  },
  {
   "cell_type": "code",
   "execution_count": null,
   "metadata": {},
   "outputs": [],
   "source": [
    "soup = BeautifulSoup(response.content,'xml')"
   ]
  },
  {
   "cell_type": "code",
   "execution_count": null,
   "metadata": {},
   "outputs": [],
   "source": [
    "soup.TrackInfo['ID']"
   ]
  },
  {
   "cell_type": "code",
   "execution_count": null,
   "metadata": {},
   "outputs": [],
   "source": [
    "# So the line would be:\n",
    "# deliveredfile.write('\\n\\n' + soup.TrackSummary.text)"
   ]
  },
  {
   "cell_type": "markdown",
   "metadata": {},
   "source": [
    "# Adjusting the code to write the file as we go, so we can include summaries:"
   ]
  },
  {
   "cell_type": "code",
   "execution_count": 6,
   "metadata": {},
   "outputs": [],
   "source": [
    "delivered_list = []\n",
    "from datetime import datetime as dt\n",
    "\n",
    "# Test on the tail of the dataframe (I've added two delivered packages to the end):\n",
    "rn = dt.now()\n",
    "filename = 'Output\\deliveredlistSOUPED' + rn.strftime('%Y%m%d_%H%M') + '.txt'\n",
    "deliveredfile = open(filename, 'a')\n",
    "deliveredfile.write(\n",
    "    'Packages delivered as of ' + rn.strftime('%d %B %Y, %H:%M') + ':\\n'\n",
    ")\n",
    "for num in tracking_df.tail()['Tracking Nos.']:\n",
    "    response = requests.get(base_url + \\\n",
    "                        f'<TrackRequest USERID=\"{userid}\" PASSWORD=\"{password}\">\\\n",
    "                            <TrackID ID=\"{num}\"></TrackID>\\\n",
    "                                </TrackRequest>')\n",
    "    soup = BeautifulSoup(response.content, 'xml')\n",
    "    # Three different phrases might indicate that the package has reached the recipient:\n",
    "    condition1 = 'Your item was delivered' in str(response.content)\n",
    "    condition2 = 'Your item has been delivered' in str(response.content)\n",
    "    condition3 = 'Your item was picked up' in str(response.content)\n",
    "\n",
    "    if condition1 | condition2 | condition3:\n",
    "        delivered_list.append(num)\n",
    "        spot = tracking_df[tracking_df['Tracking Nos.'] == num].index[0]\n",
    "        # NOTE: the above line is written with the assumption that exactly one row is returned. If the condition returns more than one index for a tracking number, the first will go into the varible.\n",
    "        deliveredfile.write(f'\\n{tracking_df.iloc[spot,0]}, {tracking_df.iloc[spot,1]}, {tracking_df.iloc[spot,2]}')\n",
    "        deliveredfile.write('\\n\\n' + soup.TrackSummary.text + '\\n')\n",
    "\n",
    "deliveredfile.close()\n"
   ]
  },
  {
   "cell_type": "markdown",
   "metadata": {},
   "source": [
    "# An adjustment:\n",
    "\n",
    "Fixing the line in the writing cell so that it can handle multiple entries associated with one tracking number (i.e. multiple returns going to one person)."
   ]
  },
  {
   "cell_type": "code",
   "execution_count": 18,
   "metadata": {},
   "outputs": [
    {
     "name": "stdout",
     "output_type": "stream",
     "text": [
      "Index([121], dtype='int64')\n"
     ]
    },
    {
     "data": {
      "text/plain": [
       "121"
      ]
     },
     "execution_count": 18,
     "metadata": {},
     "output_type": "execute_result"
    }
   ],
   "source": [
    "tracking_df = pd.read_csv('TestRun2\\Output\\TrackingList2024July29_1114.csv')\n",
    "spots = tracking_df[tracking_df['Tracking Nos.'] == '9114902200852144849393'].index\n",
    "print(spots)\n",
    "spots[0]"
   ]
  },
  {
   "cell_type": "code",
   "execution_count": 15,
   "metadata": {},
   "outputs": [
    {
     "data": {
      "text/html": [
       "<div>\n",
       "<style scoped>\n",
       "    .dataframe tbody tr th:only-of-type {\n",
       "        vertical-align: middle;\n",
       "    }\n",
       "\n",
       "    .dataframe tbody tr th {\n",
       "        vertical-align: top;\n",
       "    }\n",
       "\n",
       "    .dataframe thead th {\n",
       "        text-align: right;\n",
       "    }\n",
       "</style>\n",
       "<table border=\"1\" class=\"dataframe\">\n",
       "  <thead>\n",
       "    <tr style=\"text-align: right;\">\n",
       "      <th></th>\n",
       "      <th>Unnamed: 0</th>\n",
       "      <th>Tracking Nos.</th>\n",
       "      <th>Client Nos.</th>\n",
       "      <th>Comments</th>\n",
       "    </tr>\n",
       "  </thead>\n",
       "  <tbody>\n",
       "    <tr>\n",
       "      <th>117</th>\n",
       "      <td>129</td>\n",
       "      <td>9589071052701128330960</td>\n",
       "      <td>11998.02</td>\n",
       "      <td>Multiple Returns</td>\n",
       "    </tr>\n",
       "    <tr>\n",
       "      <th>118</th>\n",
       "      <td>130</td>\n",
       "      <td>9589071052701128330960</td>\n",
       "      <td>11994.02</td>\n",
       "      <td>Multiple Returns</td>\n",
       "    </tr>\n",
       "    <tr>\n",
       "      <th>119</th>\n",
       "      <td>131</td>\n",
       "      <td>9589071052701128330960</td>\n",
       "      <td>17416.02</td>\n",
       "      <td>Multiple Returns</td>\n",
       "    </tr>\n",
       "    <tr>\n",
       "      <th>120</th>\n",
       "      <td>132</td>\n",
       "      <td>9114902200852144849386</td>\n",
       "      <td>50836.02</td>\n",
       "      <td>1040 and Source Docs</td>\n",
       "    </tr>\n",
       "    <tr>\n",
       "      <th>121</th>\n",
       "      <td>133</td>\n",
       "      <td>9114902200852144849393</td>\n",
       "      <td>54159.02</td>\n",
       "      <td>Source Docs</td>\n",
       "    </tr>\n",
       "  </tbody>\n",
       "</table>\n",
       "</div>"
      ],
      "text/plain": [
       "     Unnamed: 0           Tracking Nos.  Client Nos.              Comments\n",
       "117         129  9589071052701128330960     11998.02      Multiple Returns\n",
       "118         130  9589071052701128330960     11994.02      Multiple Returns\n",
       "119         131  9589071052701128330960     17416.02      Multiple Returns\n",
       "120         132  9114902200852144849386     50836.02  1040 and Source Docs\n",
       "121         133  9114902200852144849393     54159.02           Source Docs"
      ]
     },
     "execution_count": 15,
     "metadata": {},
     "output_type": "execute_result"
    }
   ],
   "source": [
    "tracking_df.tail()"
   ]
  },
  {
   "cell_type": "code",
   "execution_count": 10,
   "metadata": {},
   "outputs": [
    {
     "data": {
      "text/plain": [
       "{11, 'a'}"
      ]
     },
     "execution_count": 10,
     "metadata": {},
     "output_type": "execute_result"
    }
   ],
   "source": [
    "import pandas as pd\n",
    "list = [11,12,13,13,13]\n",
    "list2 = ['a','v','f','f','f']\n",
    "list3 = ['a',2,3,4,5]\n",
    "frame = pd.DataFrame([list,list2,list3],columns=['A','B','C','D','E'])\n",
    "set(frame['A'])"
   ]
  }
 ],
 "metadata": {
  "kernelspec": {
   "display_name": "base",
   "language": "python",
   "name": "python3"
  },
  "language_info": {
   "codemirror_mode": {
    "name": "ipython",
    "version": 3
   },
   "file_extension": ".py",
   "mimetype": "text/x-python",
   "name": "python",
   "nbconvert_exporter": "python",
   "pygments_lexer": "ipython3",
   "version": "3.11.7"
  }
 },
 "nbformat": 4,
 "nbformat_minor": 2
}
