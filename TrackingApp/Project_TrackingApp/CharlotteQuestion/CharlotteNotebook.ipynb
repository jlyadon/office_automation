{
 "cells": [
  {
   "cell_type": "code",
   "execution_count": 1,
   "metadata": {},
   "outputs": [],
   "source": [
    "listpath = '..\\TestRun2\\TrackingList.csv'\n",
    "# This is currently the most up to date tracking list version"
   ]
  },
  {
   "cell_type": "code",
   "execution_count": 3,
   "metadata": {},
   "outputs": [
    {
     "name": "stdout",
     "output_type": "stream",
     "text": [
      "76 undelivered files went through Charlotte.\n"
     ]
    }
   ],
   "source": [
    "import requests\n",
    "import pandas as pd\n",
    "from datetime import datetime as dt\n",
    "from xml.etree import ElementTree as ET\n",
    "from config import userid, password\n",
    "from bs4 import BeautifulSoup\n",
    "\n",
    "base_url = 'https://secure.shippingapis.com/ShippingAPI.dll?API=TrackV2&XML='\n",
    "\n",
    "tracking_df = pd.read_csv(listpath,dtype={'Client Nos.':str})\n",
    "\n",
    "# Build a list of delivered packages based on API calls and save it to a file:\n",
    "charlotte_list = []\n",
    "filename = 'Output\\charlottelist.txt'\n",
    "charlottefile = open(filename, 'a')\n",
    "charlottefile.write(\n",
    "    'Undelivered items that went through Charlotte:\\n'\n",
    ")\n",
    "for num in tracking_df['Tracking Nos.']:\n",
    "    response = requests.get(base_url + \\\n",
    "                        f'<TrackRequest USERID=\"{userid}\" PASSWORD=\"{password}\">\\\n",
    "                            <TrackID ID=\"{num}\"></TrackID>\\\n",
    "                                </TrackRequest>')\n",
    "    soup = BeautifulSoup(response.content, 'xml')\n",
    "\n",
    "    if 'charlotte' in str(response.content).lower():\n",
    "        charlotte_list.append(num)\n",
    "        spot = tracking_df[tracking_df['Tracking Nos.'] == num].index[0]\n",
    "        # NOTE: the above line is written with the assumption that exactly one row is returned. If the condition returns more than one index for a tracking number, the first will go into the varible.\n",
    "        charlottefile.write(f'\\n{tracking_df.iloc[spot,0]}, {tracking_df.iloc[spot,1]}, {tracking_df.iloc[spot,2]}')\n",
    "        charlottefile.write('\\n\\n' + soup.prettify() + '\\n')\n",
    "\n",
    "charlottefile.close()\n",
    "\n",
    "print(f'{len(charlotte_list)} undelivered files went through Charlotte.')"
   ]
  }
 ],
 "metadata": {
  "kernelspec": {
   "display_name": "base",
   "language": "python",
   "name": "python3"
  },
  "language_info": {
   "codemirror_mode": {
    "name": "ipython",
    "version": 3
   },
   "file_extension": ".py",
   "mimetype": "text/x-python",
   "name": "python",
   "nbconvert_exporter": "python",
   "pygments_lexer": "ipython3",
   "version": "3.11.7"
  }
 },
 "nbformat": 4,
 "nbformat_minor": 2
}
