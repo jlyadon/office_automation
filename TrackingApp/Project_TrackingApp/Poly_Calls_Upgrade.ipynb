{
 "cells": [
  {
   "cell_type": "markdown",
   "metadata": {},
   "source": [
    "# A Different Method for the Tracking Script\n",
    "\n",
    "In this notebook, I'm going to work on writing a different method that might be a little faster. Making an individual API call for each package simplifies the code, but I bet it'll be faster if I do group calls. You can only do up to 35, so I'll need to figure out how to handle the list while it's longer than 35."
   ]
  },
  {
   "cell_type": "code",
   "execution_count": 2,
   "metadata": {},
   "outputs": [
    {
     "data": {
      "text/plain": [
       "10"
      ]
     },
     "execution_count": 2,
     "metadata": {},
     "output_type": "execute_result"
    }
   ],
   "source": [
    "# OK, let's see if I remember how modulus works...\n",
    "115 % 35"
   ]
  },
  {
   "cell_type": "code",
   "execution_count": 5,
   "metadata": {},
   "outputs": [
    {
     "name": "stdout",
     "output_type": "stream",
     "text": [
      "3.2857142857142856\n"
     ]
    },
    {
     "data": {
      "text/plain": [
       "3"
      ]
     },
     "execution_count": 5,
     "metadata": {},
     "output_type": "execute_result"
    }
   ],
   "source": [
    "# OK, how about this?\n",
    "print(115/35)\n",
    "int(115/35)"
   ]
  },
  {
   "cell_type": "code",
   "execution_count": 7,
   "metadata": {},
   "outputs": [
    {
     "data": {
      "text/plain": [
       "1"
      ]
     },
     "execution_count": 7,
     "metadata": {},
     "output_type": "execute_result"
    }
   ],
   "source": [
    "# Does it always round down?\n",
    "int(69/35)"
   ]
  },
  {
   "cell_type": "code",
   "execution_count": 3,
   "metadata": {},
   "outputs": [
    {
     "data": {
      "text/html": [
       "<div>\n",
       "<style scoped>\n",
       "    .dataframe tbody tr th:only-of-type {\n",
       "        vertical-align: middle;\n",
       "    }\n",
       "\n",
       "    .dataframe tbody tr th {\n",
       "        vertical-align: top;\n",
       "    }\n",
       "\n",
       "    .dataframe thead th {\n",
       "        text-align: right;\n",
       "    }\n",
       "</style>\n",
       "<table border=\"1\" class=\"dataframe\">\n",
       "  <thead>\n",
       "    <tr style=\"text-align: right;\">\n",
       "      <th></th>\n",
       "      <th>Tracking Nos.</th>\n",
       "      <th>Client Nos.</th>\n",
       "      <th>Comments</th>\n",
       "    </tr>\n",
       "  </thead>\n",
       "  <tbody>\n",
       "    <tr>\n",
       "      <th>113</th>\n",
       "      <td>9114902200852144849386</td>\n",
       "      <td>50836.02</td>\n",
       "      <td>1040 and Source Docs</td>\n",
       "    </tr>\n",
       "    <tr>\n",
       "      <th>114</th>\n",
       "      <td>9114902200852144849393</td>\n",
       "      <td>54159.02</td>\n",
       "      <td>Source Docs</td>\n",
       "    </tr>\n",
       "    <tr>\n",
       "      <th>115</th>\n",
       "      <td>9114902200852144849416</td>\n",
       "      <td>70250.02</td>\n",
       "      <td>Source Docs</td>\n",
       "    </tr>\n",
       "    <tr>\n",
       "      <th>116</th>\n",
       "      <td>9114902200852144849409</td>\n",
       "      <td>63909.02</td>\n",
       "      <td>Source Docs and EL</td>\n",
       "    </tr>\n",
       "    <tr>\n",
       "      <th>117</th>\n",
       "      <td>9114902200852144849423</td>\n",
       "      <td>14246.02</td>\n",
       "      <td>Form 1041; Attempt 2</td>\n",
       "    </tr>\n",
       "  </tbody>\n",
       "</table>\n",
       "</div>"
      ],
      "text/plain": [
       "              Tracking Nos.  Client Nos.              Comments\n",
       "113  9114902200852144849386     50836.02  1040 and Source Docs\n",
       "114  9114902200852144849393     54159.02           Source Docs\n",
       "115  9114902200852144849416     70250.02           Source Docs\n",
       "116  9114902200852144849409     63909.02    Source Docs and EL\n",
       "117  9114902200852144849423     14246.02  Form 1041; Attempt 2"
      ]
     },
     "execution_count": 3,
     "metadata": {},
     "output_type": "execute_result"
    }
   ],
   "source": [
    "import pandas as pd\n",
    "tracking_df = pd.read_csv('TrackingList.csv')\n",
    "tracking_df.tail()"
   ]
  },
  {
   "cell_type": "code",
   "execution_count": 5,
   "metadata": {},
   "outputs": [],
   "source": [
    "track_list = list(tracking_df['Tracking Nos.'])"
   ]
  },
  {
   "cell_type": "markdown",
   "metadata": {},
   "source": [
    "OK, let's think about how we need to slice this. In this case, we need a list for 1 through 35, 36 through 70, 71 through 105, and 106 through 117.\n",
    "For python, that'll be:\n",
    " - range(35), for 0 through 34\n",
    " - range(35,70), for 35 through 69\n",
    " - range(70,105), for 70 through 104\n",
    " - range(105,117), for 105 through 116\n",
    "\n",
    "So here's the pattern:\n",
    " - let length = len(track_list)\n",
    " - batches = int(len(track_list) / 35)\n",
    " - list[35n : 35 * (n + 1)] for 0 to batches\n",
    " - i = length - (lenth % 35) (so this time, it'll give us 105)\n",
    " - list[i:(length)]"
   ]
  },
  {
   "cell_type": "code",
   "execution_count": 7,
   "metadata": {},
   "outputs": [
    {
     "name": "stdout",
     "output_type": "stream",
     "text": [
      "['70191640000164106422', '70192280000060192481', '9114902200789659810412', '9114902200789659710238', '9114902200789659810320', '9114902200789659810290', '9114902200789659810306', '9114902200852116737802', '9114902200852453171765', '70211970000045308191', '70211970000045307835', '70211970000045309723', '70211970000045308061', '70211970000045308856', '70211970000045307965', '70191640000164106507', '70192280000060192474', '70211970000045308634', '70191640000164105357', '70192280000060191101', '70192280000060191941', '70196140000164105869', '70191640000164105913', '70191640000164105265', '70192280000060190616', '70192280000060190173', '70191640000164105647', '70211970000045308283', '70191640000164105234', '70211970000045308269', '70191640000164105319', '70191640000164106705', '70191640000164106569', '70191640000164106583', '70191640000164106545']\n",
      "['70211970000045308634', '70191640000164106552', '70191640000164106477', '70191640000164106484', '70191640000164106521', '70191640000164106538', '70191640000164106514', '70191640000164106491', '70191640000164106460', '70191640000164106453', '70191640000164106446', '70191640000164106439', '70191640000164106415', '70191640000164106323', '70191640000164106361', '70191640000164106378', '70191640000164106286', '70191640000164106224', '70191640000164106194', '70191640000164106200', '70191640000164106170', '70191640000164106118', '70191640000164106101', '70191640000164106095', '70191640000164106088', '70192280000060192504', '70192280000060192498', '70191640000164106019', '70192280000060192221', '70192280000060192177', '70191640000164105838', '70191640000164105746', '70191640000164105715', '70191640000164105708', '70191640000164105692']\n",
      "['70192280000060192436', '70192280000060192429', '70192280000060192337', '70192280000060192313', '70192280000060192320', '70192280000060192306', '70192280000060192290', '70192280000060192283', '70192280000060192252', '70192280000060192269', '70192280000060192214', '70192280000060192207', '70192280000060192184', '70192280000060192160', '70192280000060192146', '70192280000060192153', '70192280000060192351', '70192280000060192139', '70192280000060192115', '70192280000060192085', '70192280000060192054', '70192280000060192061', '70192280000060192030', '70192280000060192047', '70192280000060192009', '70192280000060191996', '70192280000060191989', '70192280000060191033', '70192280000060190906', '70192280000060190890', '70191640000164105944', '9114902200852144849065', '9589071052701128330908', '9589071052701128330625', '70211970000045303011']\n",
      "['9589071052701128330472', '9589071052701128330489', '9589071052701128330182', '9114902200852144849157', '9114902200852144849201', '9114902200852144849188', '9114902200852144849263', '9589071052701128330823', '9114902200852144849386', '9114902200852144849393', '9114902200852144849416', '9114902200852144849409', '9114902200852144849423']\n"
     ]
    }
   ],
   "source": [
    "# OK, first we want to break track_list up into lists of 35 or fewer\n",
    "length = len(track_list)\n",
    "fullbatches = int(length/35)\n",
    "batches = fullbatches + 1\n",
    "\n",
    "for i in range(fullbatches):\n",
    "    print(track_list[35*i : 35*(i+1)])\n",
    "\n",
    "print(track_list[35*fullbatches : length])"
   ]
  },
  {
   "cell_type": "code",
   "execution_count": 9,
   "metadata": {},
   "outputs": [
    {
     "name": "stdout",
     "output_type": "stream",
     "text": [
      "35\n",
      "35\n",
      "35\n",
      "13\n",
      "118\n"
     ]
    }
   ],
   "source": [
    "for i in range(fullbatches):\n",
    "    print(len(track_list[35*i : 35*(i+1)]))\n",
    "\n",
    "print(len(track_list[35*fullbatches : length]))\n",
    "print(length)"
   ]
  },
  {
   "cell_type": "code",
   "execution_count": 10,
   "metadata": {},
   "outputs": [],
   "source": [
    "# So we could do:\n",
    "import requests\n",
    "from config import userid, password\n",
    "from bs4 import BeautifulSoup\n",
    "\n",
    "# Initialize some stuff:\n",
    "base_url = 'https://secure.shippingapis.com/ShippingAPI.dll?API=TrackV2&XML='\n",
    "delivered_list = []\n",
    "\n",
    "# Build the URL:\n",
    "for i in range(fullbatches):\n",
    "    batchlist = track_list[35*i : 35*(i+1)]\n",
    "    call_url = base_url + f'<TrackRequest USERID=\"{userid}\" PASSWORD=\"{password}\">'\n",
    "    for number in batchlist:\n",
    "        call_url += f'<TrackID ID=\"{number}\"></TrackID>'\n",
    "    call_url += '</TrackRequest>'\n",
    "\n",
    "    # Make the API call and save the response:    \n",
    "    response = requests.get(call_url)\n",
    "    soup = BeautifulSoup(response.content, 'xml')\n",
    "    # TODO: Read the xml for this batch as in the cells below\n",
    "    \n",
    "## YOU'RE GOING TO HAVE TO READ THE XML MORE CAREFULLY THIS TIME. ##\n",
    "    \n",
    "# Three different phrases might indicate that the package has reached the recipient:\n",
    "# condition1 = 'Your item was delivered' in str(response.content)\n",
    "# condition2 = 'Your item has been delivered' in str(response.content)\n",
    "# condition3 = 'Your item was picked up' in str(response.content)\n",
    "\n",
    "# if condition1 | condition2 | condition3:\n",
    "#     delivered_list.append(num)\n",
    "#     spots = tracking_df[tracking_df['Tracking Nos.'] == num].index\n",
    "#     # In most cases, there will only be one spot in spots.\n",
    "#     for spot in spots:\n",
    "#         deliveredfile.write(f'\\n{tracking_df.iloc[spot,0]}, {tracking_df.iloc[spot,1]}, {tracking_df.iloc[spot,2]}')\n",
    "#         deliveredfile.write('\\n\\n' + soup.TrackSummary.text + '\\n')"
   ]
  },
  {
   "cell_type": "code",
   "execution_count": 27,
   "metadata": {},
   "outputs": [
    {
     "data": {
      "text/plain": [
       "<?xml version=\"1.0\" encoding=\"utf-8\"?>\n",
       "<TrackResponse><TrackInfo ID=\"9114902200852144849218\"><TrackSummary>Your item was delivered in or at the mailbox at 12:28 pm on July 29, 2024 in DETROIT, MI 48221.</TrackSummary><TrackDetail>Arrived at USPS Regional Facility, July 27, 2024, 1:07 pm, DETROIT MI DISTRIBUTION CENTER</TrackDetail><TrackDetail>In Transit to Next Facility, 07/26/2024</TrackDetail><TrackDetail>Arrived at USPS Regional Origin Facility, 07/25/2024, 2:52 pm, COPPELL TX DISTRIBUTION CENTER</TrackDetail><TrackDetail>USPS picked up item, July 23, 2024, 3:26 pm, WACO, TX 76710</TrackDetail></TrackInfo><TrackInfo ID=\"9114902200852144849393\"><TrackSummary>Your item arrived at our FORT WORTH TX DISTRIBUTION CENTER origin facility on July 29, 2024 at 11:26 pm. The item is currently in transit to the destination.</TrackSummary><TrackDetail>USPS picked up item, July 29, 2024, 2:47 pm, WACO, TX 76710</TrackDetail></TrackInfo><TrackInfo ID=\"9114902200852144849386\"><TrackSummary>Your item departed our USPS facility in AUSTIN TX DISTRIBUTION CENTER on July 30, 2024 at 2:18 pm. The item is currently in transit to the destination.</TrackSummary><TrackDetail>Arrived at USPS Regional Facility, July 30, 2024, 2:09 pm, AUSTIN TX DISTRIBUTION CENTER</TrackDetail><TrackDetail>In Transit to Next Facility, 07/30/2024, 11:10 am</TrackDetail><TrackDetail>Departed USPS Facility, 07/30/2024, 9:01 am, FORT WORTH, TX 76177</TrackDetail><TrackDetail>Arrived at USPS Facility, July 30, 2024, 8:55 am, FORT WORTH, TX 76177</TrackDetail><TrackDetail>In Transit to Next Facility, 07/30/2024, 8:40 am</TrackDetail><TrackDetail>Departed USPS Regional Facility, 07/30/2024, 8:28 am, FORT WORTH TX DISTRIBUTION CENTER</TrackDetail><TrackDetail>Arrived at USPS Regional Origin Facility, 07/29/2024, 11:26 pm, FORT WORTH TX DISTRIBUTION CENTER</TrackDetail><TrackDetail>USPS picked up item, July 29, 2024, 2:47 pm, WACO, TX 76710</TrackDetail></TrackInfo></TrackResponse>"
      ]
     },
     "execution_count": 27,
     "metadata": {},
     "output_type": "execute_result"
    }
   ],
   "source": [
    "# Let's do an api call for a short list of packages and see about reading the response\n",
    "\n",
    "exp_list = [\n",
    "    9114902200852144849218,\n",
    "    9114902200852144849393,\n",
    "    9114902200852144849386\n",
    "]\n",
    "# The first one has been delivered; the other two haven't\n",
    "\n",
    "exp_url = base_url + f'<TrackRequest USERID=\"{userid}\" PASSWORD=\"{password}\">'\n",
    "for number in exp_list:\n",
    "    exp_url += f'<TrackID ID=\"{number}\"></TrackID>'\n",
    "exp_url += '</TrackRequest>'\n",
    "response = requests.get(exp_url)\n",
    "soup = BeautifulSoup(response.content, 'xml')\n",
    "\n",
    "soup"
   ]
  },
  {
   "cell_type": "code",
   "execution_count": 26,
   "metadata": {},
   "outputs": [
    {
     "name": "stdout",
     "output_type": "stream",
     "text": [
      "<TrackSummary>Your item was delivered in or at the mailbox at 12:28 pm on July 29, 2024 in DETROIT, MI 48221.</TrackSummary>\n",
      "<TrackSummary>Your item arrived at our FORT WORTH TX DISTRIBUTION CENTER origin facility on July 29, 2024 at 11:26 pm. The item is currently in transit to the destination.</TrackSummary>\n",
      "<TrackSummary>Your item departed our USPS facility in AUSTIN TX DISTRIBUTION CENTER on July 30, 2024 at 2:18 pm. The item is currently in transit to the destination.</TrackSummary>\n"
     ]
    }
   ],
   "source": [
    "# Same output as soup.find_all('TrackSummary'), but will integrate with the loop a little better:\n",
    "for number in exp_list:\n",
    "    print(soup.find('TrackInfo', ID=number).find('TrackSummary'))"
   ]
  },
  {
   "cell_type": "code",
   "execution_count": 28,
   "metadata": {},
   "outputs": [
    {
     "data": {
      "text/plain": [
       "[9114902200852144849218]"
      ]
     },
     "execution_count": 28,
     "metadata": {},
     "output_type": "execute_result"
    }
   ],
   "source": [
    "delivered_list = []\n",
    "# TODO: Open the 'deliveredfile' here\n",
    "\n",
    "for number in exp_list:\n",
    "    summary = soup.find('TrackInfo', ID=number).find('TrackSummary')\n",
    "\n",
    "    # Three different phrases might indicate that the package has reached the recipient:\n",
    "    condition1 = 'Your item was delivered' in summary.text\n",
    "    condition2 = 'Your item has been delivered' in summary.text\n",
    "    condition3 = 'Your item was picked up' in summary.text\n",
    "\n",
    "    if condition1 | condition2 | condition3:\n",
    "        delivered_list.append(number)\n",
    "        # TODO: Add number, client number, comments, summary, to the delivered file\n",
    "\n",
    "delivered_list"
   ]
  },
  {
   "cell_type": "code",
   "execution_count": 2,
   "metadata": {},
   "outputs": [
    {
     "data": {
      "text/html": [
       "<div>\n",
       "<style scoped>\n",
       "    .dataframe tbody tr th:only-of-type {\n",
       "        vertical-align: middle;\n",
       "    }\n",
       "\n",
       "    .dataframe tbody tr th {\n",
       "        vertical-align: top;\n",
       "    }\n",
       "\n",
       "    .dataframe thead th {\n",
       "        text-align: right;\n",
       "    }\n",
       "</style>\n",
       "<table border=\"1\" class=\"dataframe\">\n",
       "  <thead>\n",
       "    <tr style=\"text-align: right;\">\n",
       "      <th></th>\n",
       "      <th>1</th>\n",
       "      <th>2</th>\n",
       "      <th>3</th>\n",
       "    </tr>\n",
       "  </thead>\n",
       "  <tbody>\n",
       "    <tr>\n",
       "      <th>0</th>\n",
       "      <td>first</td>\n",
       "      <td>second</td>\n",
       "      <td>third</td>\n",
       "    </tr>\n",
       "    <tr>\n",
       "      <th>1</th>\n",
       "      <td>apple</td>\n",
       "      <td>banana</td>\n",
       "      <td>cantaloupe</td>\n",
       "    </tr>\n",
       "    <tr>\n",
       "      <th>2</th>\n",
       "      <td>avocado</td>\n",
       "      <td>beet</td>\n",
       "      <td>carrot</td>\n",
       "    </tr>\n",
       "  </tbody>\n",
       "</table>\n",
       "</div>"
      ],
      "text/plain": [
       "         1       2           3\n",
       "0    first  second       third\n",
       "1    apple  banana  cantaloupe\n",
       "2  avocado    beet      carrot"
      ]
     },
     "execution_count": 2,
     "metadata": {},
     "output_type": "execute_result"
    }
   ],
   "source": [
    "import pandas as pd\n",
    "a = {1:'first',2:'second',3:'third'}\n",
    "b = {1:'apple',2:'banana',3:'cantaloupe'}\n",
    "c = {1:'avocado',2:'beet',3:'carrot'}\n",
    "df = pd.DataFrame([a,b,c])\n",
    "df"
   ]
  },
  {
   "cell_type": "code",
   "execution_count": 13,
   "metadata": {},
   "outputs": [
    {
     "data": {
      "text/plain": [
       "2"
      ]
     },
     "execution_count": 13,
     "metadata": {},
     "output_type": "execute_result"
    }
   ],
   "source": [
    "spot = df[df[1] == 'avocado'].index[0]\n",
    "spot"
   ]
  },
  {
   "cell_type": "code",
   "execution_count": 4,
   "metadata": {},
   "outputs": [
    {
     "data": {
      "text/plain": [
       "'01 August 2024 13:47'"
      ]
     },
     "execution_count": 4,
     "metadata": {},
     "output_type": "execute_result"
    }
   ],
   "source": [
    "import datetime as dt\n",
    "rn = dt.datetime.now()\n",
    "thing = dt.datetime.strftime(rn, '%d %B %Y %H:%M')\n",
    "thing"
   ]
  }
 ],
 "metadata": {
  "kernelspec": {
   "display_name": "base",
   "language": "python",
   "name": "python3"
  },
  "language_info": {
   "codemirror_mode": {
    "name": "ipython",
    "version": 3
   },
   "file_extension": ".py",
   "mimetype": "text/x-python",
   "name": "python",
   "nbconvert_exporter": "python",
   "pygments_lexer": "ipython3",
   "version": "3.11.7"
  }
 },
 "nbformat": 4,
 "nbformat_minor": 2
}
