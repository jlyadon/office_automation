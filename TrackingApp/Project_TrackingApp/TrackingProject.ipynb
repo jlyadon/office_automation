{
 "cells": [
  {
   "cell_type": "code",
   "execution_count": 1,
   "metadata": {},
   "outputs": [],
   "source": [
    "import pandas as pd"
   ]
  },
  {
   "cell_type": "code",
   "execution_count": 2,
   "metadata": {},
   "outputs": [],
   "source": [
    "# Initialize\n",
    "# trackingnos = ['70191640000164106422','70192280000060192481','9114902200789659810412'] # list of tracking numbers. Format TBD based on Tracking API\n",
    "# clientnos = ['38525.02','48755.02','23126.02']   # ID numbers of the client associated with the package\n",
    "# comments = ['4868 and check payment','4868 and check payment','Electronic tracking sticker']\n",
    "\n",
    "# # This dataframe is primarily to use client numbers to find package info\n",
    "# tracking_df = pd.DataFrame({\n",
    "#     'Tracking Nos.':trackingnos,\n",
    "#     'Client Nos.':clientnos,\n",
    "#     'Comments':comments\n",
    "#     })\n",
    "# tracking_df.to_csv('TrackingList.csv')"
   ]
  },
  {
   "cell_type": "code",
   "execution_count": 3,
   "metadata": {},
   "outputs": [],
   "source": [
    "tracklist_df = pd.read_csv('TrackingList.csv')\n",
    "\n",
    "# tracklist_df.fillna('')\n",
    "\n",
    "# for i in range(70 - 2,107 - 2): # Dataframe index is csv row number minus 2\n",
    "#     tracklist_df.iloc[i,2] = f'{tracklist_df.iloc[i,2]}; Stack 4'\n",
    "\n",
    "\n",
    "# tracklist_df.to_csv('TrackingList.csv',index=False)"
   ]
  },
  {
   "cell_type": "code",
   "execution_count": 11,
   "metadata": {},
   "outputs": [
    {
     "data": {
      "text/plain": [
       "First 16\n",
       "7019164000016410    43\n",
       "7019228000006019    39\n",
       "7021197000004530    13\n",
       "9114902200789659     5\n",
       "9114902200852116     1\n",
       "9114901230803154     1\n",
       "9114902200852453     1\n",
       "9589071052701128     1\n",
       "7019614000016410     1\n",
       "Name: count, dtype: int64"
      ]
     },
     "execution_count": 11,
     "metadata": {},
     "output_type": "execute_result"
    }
   ],
   "source": [
    "tracklist_df['First 16'] = [string[:16] for string in tracklist_df['Tracking Nos.']]\n",
    "tracklist_df['First 16'].value_counts()"
   ]
  },
  {
   "cell_type": "code",
   "execution_count": 13,
   "metadata": {},
   "outputs": [
    {
     "data": {
      "text/plain": [
       "Digits\n",
       "20    96\n",
       "22     9\n",
       "Name: count, dtype: int64"
      ]
     },
     "execution_count": 13,
     "metadata": {},
     "output_type": "execute_result"
    }
   ],
   "source": [
    "tracklist_df['Digits'] = [len(string) for string in tracklist_df['Tracking Nos.']]\n",
    "tracklist_df['Digits'].value_counts()"
   ]
  },
  {
   "cell_type": "code",
   "execution_count": null,
   "metadata": {},
   "outputs": [],
   "source": []
  }
 ],
 "metadata": {
  "kernelspec": {
   "display_name": "Python 3 (ipykernel)",
   "language": "python",
   "name": "python3"
  },
  "language_info": {
   "codemirror_mode": {
    "name": "ipython",
    "version": 3
   },
   "file_extension": ".py",
   "mimetype": "text/x-python",
   "name": "python",
   "nbconvert_exporter": "python",
   "pygments_lexer": "ipython3",
   "version": "3.11.7"
  }
 },
 "nbformat": 4,
 "nbformat_minor": 4
}
