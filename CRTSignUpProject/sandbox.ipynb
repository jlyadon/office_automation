{
 "cells": [
  {
   "cell_type": "code",
   "execution_count": 2,
   "metadata": {},
   "outputs": [],
   "source": [
    "import pandas as pd\n",
    "import win32com.client"
   ]
  },
  {
   "cell_type": "code",
   "execution_count": 3,
   "metadata": {},
   "outputs": [],
   "source": [
    "in_person_df = pd.read_excel('CivilRightsTrainingSignUp.xlsx',sheet_name='In Person')\n",
    "virtual_df = pd.read_excel('CivilRightsTrainingSignUp.xlsx',sheet_name='Virtual')\n",
    "\n",
    "# in_person_df = pd.read_csv('SignUpInPerson.csv')\n",
    "# virtual_df = pd.read_csv('SignUpVirtual.csv')"
   ]
  },
  {
   "cell_type": "code",
   "execution_count": null,
   "metadata": {},
   "outputs": [],
   "source": [
    "# Update someone's sign up status\n",
    "\n",
    "email = \n",
    "new_status = # Enter 1 for the 10a meeting and 2 for the 1p meeting\n",
    "\n",
    "if in_person_df['Status'].value_counts()[new_status] < 60:\n",
    "    spot = in_person_df[in_person_df['Email'] == email].index[0]\n",
    "    in_person_df.iloc[spot,2] = new_status\n",
    "    print(in_person_df.iloc[spot,:])\n",
    "else:\n",
    "    print(\"Sorry, buddy; that'n's full.\")"
   ]
  },
  {
   "cell_type": "code",
   "execution_count": 8,
   "metadata": {},
   "outputs": [
    {
     "data": {
      "text/html": [
       "<div>\n",
       "<style scoped>\n",
       "    .dataframe tbody tr th:only-of-type {\n",
       "        vertical-align: middle;\n",
       "    }\n",
       "\n",
       "    .dataframe tbody tr th {\n",
       "        vertical-align: top;\n",
       "    }\n",
       "\n",
       "    .dataframe thead th {\n",
       "        text-align: right;\n",
       "    }\n",
       "</style>\n",
       "<table border=\"1\" class=\"dataframe\">\n",
       "  <thead>\n",
       "    <tr style=\"text-align: right;\">\n",
       "      <th></th>\n",
       "      <th>Name</th>\n",
       "      <th>Email</th>\n",
       "      <th>Status</th>\n",
       "    </tr>\n",
       "  </thead>\n",
       "  <tbody>\n",
       "    <tr>\n",
       "      <th>0</th>\n",
       "      <td>Aaron Morosini</td>\n",
       "      <td>Aaron_Morosini@jrbt.com</td>\n",
       "      <td>0</td>\n",
       "    </tr>\n",
       "    <tr>\n",
       "      <th>1</th>\n",
       "      <td>Alex Monroy</td>\n",
       "      <td>Alex_Monroy@jrbt.com</td>\n",
       "      <td>0</td>\n",
       "    </tr>\n",
       "    <tr>\n",
       "      <th>2</th>\n",
       "      <td>Allie Russell</td>\n",
       "      <td>Allie_Russell@jrbt.com</td>\n",
       "      <td>0</td>\n",
       "    </tr>\n",
       "    <tr>\n",
       "      <th>3</th>\n",
       "      <td>Alvin Packard</td>\n",
       "      <td>Alvin_Packard@jrbt.com</td>\n",
       "      <td>0</td>\n",
       "    </tr>\n",
       "    <tr>\n",
       "      <th>4</th>\n",
       "      <td>Amanda Ruiz</td>\n",
       "      <td>Amanda_Ruiz@jrbt.com</td>\n",
       "      <td>0</td>\n",
       "    </tr>\n",
       "  </tbody>\n",
       "</table>\n",
       "</div>"
      ],
      "text/plain": [
       "             Name                    Email  Status\n",
       "0  Aaron Morosini  Aaron_Morosini@jrbt.com       0\n",
       "1     Alex Monroy     Alex_Monroy@jrbt.com       0\n",
       "2   Allie Russell   Allie_Russell@jrbt.com       0\n",
       "3   Alvin Packard   Alvin_Packard@jrbt.com       0\n",
       "4     Amanda Ruiz     Amanda_Ruiz@jrbt.com       0"
      ]
     },
     "execution_count": 8,
     "metadata": {},
     "output_type": "execute_result"
    }
   ],
   "source": [
    "# Check the numbers.\n",
    "in_person_df['Status'] = pd.Series()\n",
    "in_person_df.fillna(0,inplace=True)\n",
    "in_person_df.head()"
   ]
  },
  {
   "cell_type": "code",
   "execution_count": 9,
   "metadata": {},
   "outputs": [],
   "source": [
    "# Save it\n",
    "in_person_df.to_csv('SignUpInPerson.csv',index=False)\n",
    "# virtual_df.to_csv('SignUpVirtual.csv')"
   ]
  },
  {
   "cell_type": "code",
   "execution_count": null,
   "metadata": {},
   "outputs": [],
   "source": [
    "# This cell adapted from https://www.makeuseof.com/send-outlook-emails-using-python/\n",
    "# You'll want to wrap text for this one.\n",
    "\n",
    "# Sending a confirmation email to the person who signed up.\n",
    "\n",
    "ol=win32com.client.Dispatch(\"outlook.application\")\n",
    "\n",
    "olmailitem=0x0 #size of the new email. Not entirely sure what this means, honestly\n",
    "\n",
    "newmail = ol.CreateItem(olmailitem)\n",
    "newmail.Subject = 'Confirmation for Sign-Up'\n",
    "newmail.To = email\n",
    "# newmail.CC = 'xyz@example.com'\n",
    "\n",
    "bodytext = \"You're signed up for \"\n",
    "\n",
    "if new_status == 1:\n",
    "    bodytext += 'the 1:00 p.m. Civil Rights/EEO training session on 28 October.'\n",
    "elif new_status == 2:\n",
    "    bodytext += 'the 10:00 a.m. Civil Rights/EEO training session on 28 October.'\n",
    "\n",
    "bodytext += \" Both sessions will take place in the fourth floor conference room.\\n\\nThanks for getting back to us!\\n\\nThanks,\\nJamey Yadon\"\n",
    "\n",
    "newmail.Body = bodytext\n",
    "\n",
    "# attach='C:\\\\Users\\\\admin\\\\Desktop\\\\Python\\\\Sample.xlsx'\n",
    "# newmail.Attachments.Add(attach)\n",
    "\n",
    "# To display the mail before sending it\n",
    "newmail.Display() \n",
    "\n",
    "# newmail.Send()"
   ]
  },
  {
   "cell_type": "markdown",
   "metadata": {},
   "source": [
    "The next section is for sending the 'hey, yall need to reply' email"
   ]
  },
  {
   "cell_type": "code",
   "execution_count": null,
   "metadata": {},
   "outputs": [],
   "source": [
    "no_reply_list = []\n",
    "email_to = ''\n",
    "\n",
    "for i in range(len(in_person_df)):\n",
    "    if in_person_df['Status'][i] == 0:\n",
    "        no_reply_list.append(in_person_df['Email'][i])\n",
    "        email_to += in_person_df['Email'][i] + ';'"
   ]
  },
  {
   "cell_type": "code",
   "execution_count": 2,
   "metadata": {},
   "outputs": [],
   "source": [
    "# To send one email to multiple people, put the emails in one string \n",
    "# with a semicolon separator. You've stored this as email_to\n",
    "\n",
    "ol=win32com.client.Dispatch(\"outlook.application\")\n",
    "\n",
    "olmailitem=0x0 #size of the new email. Not entirely sure what this means, honestly\n",
    "\n",
    "newmail=ol.CreateItem(olmailitem)\n",
    "newmail.Subject= 'Reminder to Sign-Up'\n",
    "newmail.To='jlyadon88@gmail.com' #email_to\n",
    "# newmail.CC='xyz@example.com'\n",
    "\n",
    "bodytext = \"\"\"You're not signed up for the Civil Rights/EEO training, so you should like, do that before all of Narnia perishes in fire and water or something.\n",
    "\n",
    "You could also use this cell to send an email with 'hey, only ten seats left' message.\n",
    "\n",
    "Thanks,\n",
    "Jamey L. Yadon\"\"\"\n",
    "\n",
    "newmail.Body = bodytext\n",
    "\n",
    "# attach='C:\\\\Users\\\\admin\\\\Desktop\\\\Python\\\\Sample.xlsx'\n",
    "# newmail.Attachments.Add(attach)\n",
    "\n",
    "# To display the mail before sending it\n",
    "newmail.Display() "
   ]
  }
 ],
 "metadata": {
  "kernelspec": {
   "display_name": "base",
   "language": "python",
   "name": "python3"
  },
  "language_info": {
   "codemirror_mode": {
    "name": "ipython",
    "version": 3
   },
   "file_extension": ".py",
   "mimetype": "text/x-python",
   "name": "python",
   "nbconvert_exporter": "python",
   "pygments_lexer": "ipython3",
   "version": "3.11.7"
  }
 },
 "nbformat": 4,
 "nbformat_minor": 2
}
