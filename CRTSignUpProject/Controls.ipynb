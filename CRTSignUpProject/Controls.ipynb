{
 "cells": [
  {
   "cell_type": "markdown",
   "metadata": {},
   "source": [
    "## Sign Up Sheet Code\n",
    "\n",
    "You'll need to run the first cell to initiate stuff before you do anything."
   ]
  },
  {
   "cell_type": "code",
   "execution_count": 1,
   "metadata": {},
   "outputs": [],
   "source": [
    "# Import dependencies and load in current data\n",
    "import pandas as pd\n",
    "import win32com.client\n",
    "\n",
    "in_person_df = pd.read_csv('SignUpInPerson.csv')\n",
    "virtual_df = pd.read_csv('SignUpVirtual.csv')"
   ]
  },
  {
   "cell_type": "markdown",
   "metadata": {},
   "source": [
    "To sign someone up for a session:"
   ]
  },
  {
   "cell_type": "code",
   "execution_count": 2,
   "metadata": {},
   "outputs": [],
   "source": [
    "# Update the status of someone who's signing up\n",
    "# Information:\n",
    "email = 'Cade_Isbell@jrbt.com'\n",
    "new_status = 1\n",
    "# Enter 1 for the 10a meeting and 2 for the 1p meeting"
   ]
  },
  {
   "cell_type": "code",
   "execution_count": 3,
   "metadata": {},
   "outputs": [
    {
     "name": "stdout",
     "output_type": "stream",
     "text": [
      "Name               Cade Isbell\n",
      "Email     Cade_Isbell@jrbt.com\n",
      "Status                       1\n",
      "Name: 14, dtype: object\n"
     ]
    }
   ],
   "source": [
    "# Update the tables\n",
    "if in_person_df['Status'].value_counts()[new_status] < 60:\n",
    "    spot = in_person_df[in_person_df['Email'] == email].index[0]\n",
    "    in_person_df.iloc[spot,2] = new_status\n",
    "    print(in_person_df.iloc[spot,:])\n",
    "else:\n",
    "    print(\"Sorry, buddy; that'n's full.\")"
   ]
  },
  {
   "cell_type": "code",
   "execution_count": 4,
   "metadata": {},
   "outputs": [
    {
     "data": {
      "text/html": [
       "<div>\n",
       "<style scoped>\n",
       "    .dataframe tbody tr th:only-of-type {\n",
       "        vertical-align: middle;\n",
       "    }\n",
       "\n",
       "    .dataframe tbody tr th {\n",
       "        vertical-align: top;\n",
       "    }\n",
       "\n",
       "    .dataframe thead th {\n",
       "        text-align: right;\n",
       "    }\n",
       "</style>\n",
       "<table border=\"1\" class=\"dataframe\">\n",
       "  <thead>\n",
       "    <tr style=\"text-align: right;\">\n",
       "      <th></th>\n",
       "      <th>count</th>\n",
       "    </tr>\n",
       "    <tr>\n",
       "      <th>Status</th>\n",
       "      <th></th>\n",
       "    </tr>\n",
       "  </thead>\n",
       "  <tbody>\n",
       "    <tr>\n",
       "      <th>1</th>\n",
       "      <td>53</td>\n",
       "    </tr>\n",
       "    <tr>\n",
       "      <th>2</th>\n",
       "      <td>39</td>\n",
       "    </tr>\n",
       "    <tr>\n",
       "      <th>4</th>\n",
       "      <td>11</td>\n",
       "    </tr>\n",
       "    <tr>\n",
       "      <th>0</th>\n",
       "      <td>6</td>\n",
       "    </tr>\n",
       "    <tr>\n",
       "      <th>3</th>\n",
       "      <td>2</td>\n",
       "    </tr>\n",
       "  </tbody>\n",
       "</table>\n",
       "</div>"
      ],
      "text/plain": [
       "        count\n",
       "Status       \n",
       "1          53\n",
       "2          39\n",
       "4          11\n",
       "0           6\n",
       "3           2"
      ]
     },
     "execution_count": 4,
     "metadata": {},
     "output_type": "execute_result"
    }
   ],
   "source": [
    "# Check the numbers\n",
    "\n",
    "pd.DataFrame(in_person_df['Status'].value_counts())"
   ]
  },
  {
   "cell_type": "code",
   "execution_count": 5,
   "metadata": {},
   "outputs": [],
   "source": [
    "# Save the tables as csvs\n",
    "\n",
    "in_person_df.to_csv('SignUpInPerson.csv',index=False)\n",
    "virtual_df.to_csv('SignUpVirtual.csv',index=False)\n",
    "\n",
    "in_person_df.rename(columns={'Status':'Session'}).replace(0,'Not signed up').replace(1,'10 am').replace(2, '1 pm').replace(3, 'Unable to attend').replace(4,'Will attend virtual').to_csv('Attendees_InPerson.csv',index=False)\n",
    "# This one will be easier for humans to read"
   ]
  },
  {
   "cell_type": "code",
   "execution_count": 6,
   "metadata": {},
   "outputs": [],
   "source": [
    "# Send a confirmation email to the person who signed up.\n",
    "\n",
    "ol=win32com.client.Dispatch(\"outlook.application\")\n",
    "\n",
    "olmailitem=0x0 #size of the new email. Not entirely sure what this means, honestly\n",
    "\n",
    "newmail = ol.CreateItem(olmailitem)\n",
    "newmail.Subject = 'Confirmation for Sign-Up'\n",
    "newmail.To = email\n",
    "# newmail.CC = 'xyz@example.com'\n",
    "\n",
    "bodytext = \"You're signed up for \"\n",
    "\n",
    "if new_status == 1:\n",
    "    bodytext += 'the 10:00 a.m. Civil Rights/EEO training session on 28 October.'\n",
    "elif new_status == 2:\n",
    "    bodytext += 'the 1:00 p.m. Civil Rights/EEO training session on 28 October.'\n",
    "\n",
    "bodytext += \" Both sessions will take place in the fourth floor conference room.\\n\\nThanks for getting back to us!\\n\\nThanks,\\nJamey Yadon\"\n",
    "\n",
    "newmail.Body = bodytext\n",
    "\n",
    "# Display the mail before sending it\n",
    "newmail.Display() \n",
    "\n",
    "# This cell adapted from https://www.makeuseof.com/send-outlook-emails-using-python/"
   ]
  },
  {
   "cell_type": "markdown",
   "metadata": {},
   "source": [
    "When it comes time to send the reminder to those who haven't signed up:"
   ]
  },
  {
   "cell_type": "code",
   "execution_count": 21,
   "metadata": {},
   "outputs": [
    {
     "name": "stdout",
     "output_type": "stream",
     "text": [
      "Alvin_Packard@jrbt.com;Brian_Bivona@jrbt.com;Bryan\n"
     ]
    }
   ],
   "source": [
    "# Build the string of people to send to\n",
    "\n",
    "email_to = ''\n",
    "\n",
    "for i in range(len(in_person_df)):\n",
    "    if in_person_df['Status'][i] == 0:\n",
    "        email_to += in_person_df['Email'][i] + ';'\n",
    "\n",
    "print(email_to[:50])"
   ]
  },
  {
   "cell_type": "code",
   "execution_count": 22,
   "metadata": {},
   "outputs": [],
   "source": [
    "# Send the email\n",
    "\n",
    "ol=win32com.client.Dispatch(\"outlook.application\")\n",
    "\n",
    "olmailitem=0x0 #size of the new email. Not entirely sure what this means, honestly\n",
    "\n",
    "newmail = ol.CreateItem(olmailitem)\n",
    "newmail.Subject = 'Reminder about Civil Rights/EEO Training'\n",
    "newmail.To = email_to\n",
    "\n",
    "bodytext = \"\"\"Good morning,\n",
    "\n",
    "If you're receiving this email, I don't have you down for either session of the civil rights/EEO training on 28 October. Please email me and let me know whether you'd like to attend the 10am or the 1pm session, or if you will be unable to attend either. On Monday, we will assign a session to those who haven't signed up. Please also remember that the training is required, though accomodations can be made for those unable to attend.\n",
    "\n",
    "Thank you,\n",
    "Jamey L. Yadon\n",
    "\"\"\"\n",
    "\n",
    "newmail.Body = bodytext\n",
    "\n",
    "# Display the mail before sending it\n",
    "newmail.Display() \n",
    "\n",
    "# This cell adapted from https://www.makeuseof.com/send-outlook-emails-using-python/"
   ]
  },
  {
   "cell_type": "code",
   "execution_count": 8,
   "metadata": {},
   "outputs": [],
   "source": [
    "virtual_list = in_person_df[in_person_df['Status'] == 3]['Email'].drop(73)"
   ]
  },
  {
   "cell_type": "code",
   "execution_count": 9,
   "metadata": {},
   "outputs": [],
   "source": [
    "for email in virtual_list:\n",
    "    spot = in_person_df[in_person_df['Email'] == email].index[0]\n",
    "    in_person_df.iloc[spot,2] = 4"
   ]
  },
  {
   "cell_type": "code",
   "execution_count": 20,
   "metadata": {},
   "outputs": [
    {
     "data": {
      "text/html": [
       "<div>\n",
       "<style scoped>\n",
       "    .dataframe tbody tr th:only-of-type {\n",
       "        vertical-align: middle;\n",
       "    }\n",
       "\n",
       "    .dataframe tbody tr th {\n",
       "        vertical-align: top;\n",
       "    }\n",
       "\n",
       "    .dataframe thead th {\n",
       "        text-align: right;\n",
       "    }\n",
       "</style>\n",
       "<table border=\"1\" class=\"dataframe\">\n",
       "  <thead>\n",
       "    <tr style=\"text-align: right;\">\n",
       "      <th></th>\n",
       "      <th>Name</th>\n",
       "      <th>Email</th>\n",
       "      <th>Status</th>\n",
       "    </tr>\n",
       "  </thead>\n",
       "  <tbody>\n",
       "    <tr>\n",
       "      <th>31</th>\n",
       "      <td>Garry Marshall</td>\n",
       "      <td>Garry_Marshall@jrbt.com</td>\n",
       "      <td>3</td>\n",
       "    </tr>\n",
       "    <tr>\n",
       "      <th>73</th>\n",
       "      <td>Michael Brown</td>\n",
       "      <td>Michael_Brown@jrbt.com</td>\n",
       "      <td>3</td>\n",
       "    </tr>\n",
       "  </tbody>\n",
       "</table>\n",
       "</div>"
      ],
      "text/plain": [
       "              Name                    Email  Status\n",
       "31  Garry Marshall  Garry_Marshall@jrbt.com       3\n",
       "73   Michael Brown   Michael_Brown@jrbt.com       3"
      ]
     },
     "execution_count": 20,
     "metadata": {},
     "output_type": "execute_result"
    }
   ],
   "source": [
    "in_person_df[in_person_df['Status'] == 3]"
   ]
  }
 ],
 "metadata": {
  "kernelspec": {
   "display_name": "base",
   "language": "python",
   "name": "python3"
  },
  "language_info": {
   "codemirror_mode": {
    "name": "ipython",
    "version": 3
   },
   "file_extension": ".py",
   "mimetype": "text/x-python",
   "name": "python",
   "nbconvert_exporter": "python",
   "pygments_lexer": "ipython3",
   "version": "3.11.7"
  }
 },
 "nbformat": 4,
 "nbformat_minor": 2
}
